{
  "nbformat": 4,
  "nbformat_minor": 0,
  "metadata": {
    "colab": {
      "name": "minitarea4_2020.ipynb",
      "provenance": [],
      "authorship_tag": "ABX9TyMaShrkWN0U0rHakdvlj56W",
      "include_colab_link": true
    },
    "kernelspec": {
      "name": "python3",
      "display_name": "Python 3"
    }
  },
  "cells": [
    {
      "cell_type": "markdown",
      "metadata": {
        "id": "view-in-github",
        "colab_type": "text"
      },
      "source": [
        "<a href=\"https://colab.research.google.com/github/suafle/minitarea4/blob/master/minitarea4_2020.ipynb\" target=\"_parent\"><img src=\"https://colab.research.google.com/assets/colab-badge.svg\" alt=\"Open In Colab\"/></a>"
      ]
    },
    {
      "cell_type": "markdown",
      "metadata": {
        "id": "_iztN9ZYqG7L",
        "colab_type": "text"
      },
      "source": [
        "#**CD2201: Ciencia de Datos en Astronomía**\n",
        "**Profesores**: Pía Cortés, Daniela Barrientos, Matías Suazo, Matías Mattamala\n",
        "\n",
        "\n"
      ]
    },
    {
      "cell_type": "markdown",
      "metadata": {
        "id": "IaNhs3S1qslu",
        "colab_type": "text"
      },
      "source": [
        "**Minitarea 4**: Uso de scikit-learn\n",
        "\n",
        "**Objetivos:**\n",
        "\n",
        "1.   Poner en práctica el uso de todas las librerías de python anteriormente vistas.\n",
        "2.   Utilizar el paquete scikit-learn para regresión y clasificación.\n",
        "3.   Medir el desempeño de los algoritmos a utilizar.\n",
        "\n",
        "**Instrucciones:**\n",
        "\n",
        "1.   Leer cuidadosamente lo que sigue.\n",
        "2.   \n"
      ]
    },
    {
      "cell_type": "markdown",
      "metadata": {
        "id": "MClv-58xv7sI",
        "colab_type": "text"
      },
      "source": [
        "##**1. Cargar datos**\n",
        "\n",
        "Para esta minitarea trabajaremos con datos fotométricos de galaxias y estrellas. Esta tarea cuenta con dos objetivos: aplicar algoritmos de machine learning tanto en regresión como en clasificación, como evaluar el desempeño de los algoritmos a utilizar.\n",
        "\n",
        "Comencemos por cargar los datos que han sido provistos a través de material docente (**datos_ml.csv**), el archivo debería estar en su Google Drive personal. Debemos montar nuestro Google Drive primero para luego acceder a los archivos en él. El archivo se puede abrir utilizando la función **read_csv** del paquete **pandas**.\n",
        "\n",
        "\n",
        "Este archivo contiene solo fotometría en la banda r:\n",
        "\n",
        "\n",
        "*   psfMag_r = Magnitud de la PSF\n",
        "*   fiberMag_r = Magnitud en un radio de fibra de 3 segundos de arco\n",
        "*   fiber2Mag_r = Magnitud en un radio de fibra de 3 segundos de arco\n",
        "*   petroMag_r = Magnitud petrosiana (considerando un radio especial llamado radio petrosiano)\n",
        "*   deVMag_r = Magnitud de Vaucouleurs (Se ajusta una función de De Vaucouvelurs y se calcula la magnitud suponiendo que el objeto obedece esta ley) https://en.wikipedia.org/wiki/De_Vaucouleurs%27_law\n",
        "*   expMag_r = Magnitud asumiendo un ajuste exponencial\n",
        "*   modelMag_u\t= deVMag_r o expMag_r, dependiendo de cual de las dos resulta mejor ajustadas.\n",
        "*   cModelMag_r\t= magnitud creada a partir de deVMag_r y expMag_r\n",
        "\n",
        "\n",
        "\n",
        "\n",
        "\n"
      ]
    },
    {
      "cell_type": "code",
      "metadata": {
        "id": "mMpemZ0lyzUr",
        "colab_type": "code",
        "colab": {
          "base_uri": "https://localhost:8080/",
          "height": 34
        },
        "outputId": "d839a7f8-e506-41af-d3c9-6f559aa5b223"
      },
      "source": [
        "from google.colab import drive\n",
        "drive.mount('/content/drive/')"
      ],
      "execution_count": null,
      "outputs": [
        {
          "output_type": "stream",
          "text": [
            "Drive already mounted at /content/drive/; to attempt to forcibly remount, call drive.mount(\"/content/drive/\", force_remount=True).\n"
          ],
          "name": "stdout"
        }
      ]
    },
    {
      "cell_type": "code",
      "metadata": {
        "id": "TQC2s_vqxq42",
        "colab_type": "code",
        "colab": {}
      },
      "source": [
        "import numpy as np\n",
        "import pandas as pd\n",
        "import matplotlib.pyplot as plt\n",
        "from sklearn.model_selection import train_test_split"
      ],
      "execution_count": null,
      "outputs": []
    },
    {
      "cell_type": "code",
      "metadata": {
        "id": "cqyLf_ahv7KF",
        "colab_type": "code",
        "colab": {}
      },
      "source": [
        "datos = pd.read_csv('/content/drive/My Drive/datos_ml.csv')"
      ],
      "execution_count": null,
      "outputs": []
    },
    {
      "cell_type": "code",
      "metadata": {
        "id": "abLeT43lzaNt",
        "colab_type": "code",
        "colab": {
          "base_uri": "https://localhost:8080/",
          "height": 419
        },
        "outputId": "7ce3cf33-7336-4c50-fab4-3a7e8ccaf6fa"
      },
      "source": [
        "datos"
      ],
      "execution_count": null,
      "outputs": [
        {
          "output_type": "execute_result",
          "data": {
            "text/html": [
              "<div>\n",
              "<style scoped>\n",
              "    .dataframe tbody tr th:only-of-type {\n",
              "        vertical-align: middle;\n",
              "    }\n",
              "\n",
              "    .dataframe tbody tr th {\n",
              "        vertical-align: top;\n",
              "    }\n",
              "\n",
              "    .dataframe thead th {\n",
              "        text-align: right;\n",
              "    }\n",
              "</style>\n",
              "<table border=\"1\" class=\"dataframe\">\n",
              "  <thead>\n",
              "    <tr style=\"text-align: right;\">\n",
              "      <th></th>\n",
              "      <th>Unnamed: 0</th>\n",
              "      <th>psfMag_r</th>\n",
              "      <th>fiberMag_r</th>\n",
              "      <th>fiber2Mag_r</th>\n",
              "      <th>petroMag_r</th>\n",
              "      <th>deVMag_r</th>\n",
              "      <th>expMag_r</th>\n",
              "      <th>modelMag_r</th>\n",
              "      <th>cModelMag_r</th>\n",
              "      <th>class</th>\n",
              "    </tr>\n",
              "  </thead>\n",
              "  <tbody>\n",
              "    <tr>\n",
              "      <th>0</th>\n",
              "      <td>0</td>\n",
              "      <td>20.44020</td>\n",
              "      <td>20.78680</td>\n",
              "      <td>21.41974</td>\n",
              "      <td>19.63153</td>\n",
              "      <td>19.44181</td>\n",
              "      <td>19.65987</td>\n",
              "      <td>19.44181</td>\n",
              "      <td>19.49099</td>\n",
              "      <td>b'GALAXY'</td>\n",
              "    </tr>\n",
              "    <tr>\n",
              "      <th>1</th>\n",
              "      <td>1</td>\n",
              "      <td>20.59600</td>\n",
              "      <td>21.05023</td>\n",
              "      <td>21.52178</td>\n",
              "      <td>20.43809</td>\n",
              "      <td>20.55688</td>\n",
              "      <td>20.56577</td>\n",
              "      <td>20.55688</td>\n",
              "      <td>20.55688</td>\n",
              "      <td>b'STAR'</td>\n",
              "    </tr>\n",
              "    <tr>\n",
              "      <th>2</th>\n",
              "      <td>2</td>\n",
              "      <td>21.20326</td>\n",
              "      <td>21.68447</td>\n",
              "      <td>22.09465</td>\n",
              "      <td>21.44075</td>\n",
              "      <td>21.21554</td>\n",
              "      <td>21.21564</td>\n",
              "      <td>21.21554</td>\n",
              "      <td>21.21554</td>\n",
              "      <td>b'STAR'</td>\n",
              "    </tr>\n",
              "    <tr>\n",
              "      <th>3</th>\n",
              "      <td>3</td>\n",
              "      <td>21.11595</td>\n",
              "      <td>21.52400</td>\n",
              "      <td>22.05365</td>\n",
              "      <td>20.81025</td>\n",
              "      <td>20.74396</td>\n",
              "      <td>20.82218</td>\n",
              "      <td>20.74391</td>\n",
              "      <td>20.74396</td>\n",
              "      <td>b'GALAXY'</td>\n",
              "    </tr>\n",
              "    <tr>\n",
              "      <th>4</th>\n",
              "      <td>4</td>\n",
              "      <td>21.80693</td>\n",
              "      <td>22.16929</td>\n",
              "      <td>22.75302</td>\n",
              "      <td>20.35699</td>\n",
              "      <td>20.21300</td>\n",
              "      <td>20.49648</td>\n",
              "      <td>20.21300</td>\n",
              "      <td>20.21300</td>\n",
              "      <td>b'GALAXY'</td>\n",
              "    </tr>\n",
              "    <tr>\n",
              "      <th>...</th>\n",
              "      <td>...</td>\n",
              "      <td>...</td>\n",
              "      <td>...</td>\n",
              "      <td>...</td>\n",
              "      <td>...</td>\n",
              "      <td>...</td>\n",
              "      <td>...</td>\n",
              "      <td>...</td>\n",
              "      <td>...</td>\n",
              "      <td>...</td>\n",
              "    </tr>\n",
              "    <tr>\n",
              "      <th>99995</th>\n",
              "      <td>99995</td>\n",
              "      <td>19.40304</td>\n",
              "      <td>19.73992</td>\n",
              "      <td>20.21592</td>\n",
              "      <td>19.46891</td>\n",
              "      <td>19.41325</td>\n",
              "      <td>19.41312</td>\n",
              "      <td>19.41312</td>\n",
              "      <td>19.41312</td>\n",
              "      <td>b'STAR'</td>\n",
              "    </tr>\n",
              "    <tr>\n",
              "      <th>99996</th>\n",
              "      <td>99996</td>\n",
              "      <td>15.89951</td>\n",
              "      <td>16.22320</td>\n",
              "      <td>16.70072</td>\n",
              "      <td>15.95597</td>\n",
              "      <td>15.90502</td>\n",
              "      <td>15.90497</td>\n",
              "      <td>15.90502</td>\n",
              "      <td>15.90502</td>\n",
              "      <td>b'STAR'</td>\n",
              "    </tr>\n",
              "    <tr>\n",
              "      <th>99997</th>\n",
              "      <td>99997</td>\n",
              "      <td>18.95202</td>\n",
              "      <td>19.27494</td>\n",
              "      <td>19.75539</td>\n",
              "      <td>19.00164</td>\n",
              "      <td>18.95163</td>\n",
              "      <td>18.95174</td>\n",
              "      <td>18.95164</td>\n",
              "      <td>18.95163</td>\n",
              "      <td>b'STAR'</td>\n",
              "    </tr>\n",
              "    <tr>\n",
              "      <th>99998</th>\n",
              "      <td>99998</td>\n",
              "      <td>19.62088</td>\n",
              "      <td>19.25105</td>\n",
              "      <td>19.98588</td>\n",
              "      <td>17.62660</td>\n",
              "      <td>17.14137</td>\n",
              "      <td>17.67299</td>\n",
              "      <td>17.67299</td>\n",
              "      <td>17.57948</td>\n",
              "      <td>b'GALAXY'</td>\n",
              "    </tr>\n",
              "    <tr>\n",
              "      <th>99999</th>\n",
              "      <td>99999</td>\n",
              "      <td>20.15372</td>\n",
              "      <td>20.46689</td>\n",
              "      <td>20.95163</td>\n",
              "      <td>20.19185</td>\n",
              "      <td>20.15613</td>\n",
              "      <td>20.15570</td>\n",
              "      <td>20.15570</td>\n",
              "      <td>20.15570</td>\n",
              "      <td>b'STAR'</td>\n",
              "    </tr>\n",
              "  </tbody>\n",
              "</table>\n",
              "<p>100000 rows × 10 columns</p>\n",
              "</div>"
            ],
            "text/plain": [
              "       Unnamed: 0  psfMag_r  fiberMag_r  ...  modelMag_r  cModelMag_r      class\n",
              "0               0  20.44020    20.78680  ...    19.44181     19.49099  b'GALAXY'\n",
              "1               1  20.59600    21.05023  ...    20.55688     20.55688    b'STAR'\n",
              "2               2  21.20326    21.68447  ...    21.21554     21.21554    b'STAR'\n",
              "3               3  21.11595    21.52400  ...    20.74391     20.74396  b'GALAXY'\n",
              "4               4  21.80693    22.16929  ...    20.21300     20.21300  b'GALAXY'\n",
              "...           ...       ...         ...  ...         ...          ...        ...\n",
              "99995       99995  19.40304    19.73992  ...    19.41312     19.41312    b'STAR'\n",
              "99996       99996  15.89951    16.22320  ...    15.90502     15.90502    b'STAR'\n",
              "99997       99997  18.95202    19.27494  ...    18.95164     18.95163    b'STAR'\n",
              "99998       99998  19.62088    19.25105  ...    17.67299     17.57948  b'GALAXY'\n",
              "99999       99999  20.15372    20.46689  ...    20.15570     20.15570    b'STAR'\n",
              "\n",
              "[100000 rows x 10 columns]"
            ]
          },
          "metadata": {
            "tags": []
          },
          "execution_count": 5
        }
      ]
    },
    {
      "cell_type": "code",
      "metadata": {
        "id": "Ph4pliIvqsA5",
        "colab_type": "code",
        "colab": {
          "base_uri": "https://localhost:8080/",
          "height": 71
        },
        "outputId": "68e8924e-1d06-49e4-e586-77a52eb143f3"
      },
      "source": [
        "from astroquery.sdss import SDSS\n",
        "\n",
        "data = SDSS.query_sql(\"\"\"SELECT TOP 100000\n",
        "                      p.psfMag_r, p.fiberMag_r, p.fiber2Mag_r, p.petroMag_r, \n",
        "                      p.deVMag_r, p.expMag_r, p.modelMag_r, p.cModelMag_r, \n",
        "                      s.class\n",
        "                      \n",
        "                      FROM PhotoObjAll AS p JOIN specObjAll s ON s.bestobjid = p.objid\n",
        "                      \n",
        "                      WHERE p.mode = 1 AND s.sciencePrimary = 1 AND p.clean = 1 AND s.class != 'QSO'\n",
        "                      \n",
        "                      \"\"\")"
      ],
      "execution_count": null,
      "outputs": [
        {
          "output_type": "stream",
          "text": [
            "/usr/local/lib/python3.6/dist-packages/astroquery/sdss/core.py:865: VisibleDeprecationWarning: Reading unicode strings without specifying the encoding argument is deprecated. Set the encoding, use None for the system default.\n",
            "  comments='#'))\n"
          ],
          "name": "stderr"
        }
      ]
    },
    {
      "cell_type": "code",
      "metadata": {
        "id": "n71CGZJzpmvR",
        "colab_type": "code",
        "colab": {
          "base_uri": "https://localhost:8080/",
          "height": 232
        },
        "outputId": "ec42838b-1921-4af4-91da-1f54d6fc56e9"
      },
      "source": [
        "print(type(data))\n",
        "\n",
        "t = data.to_pandas()\n",
        "\n",
        "t.to_csv('datos_ml.csv',index=False)"
      ],
      "execution_count": null,
      "outputs": [
        {
          "output_type": "error",
          "ename": "NameError",
          "evalue": "ignored",
          "traceback": [
            "\u001b[0;31m---------------------------------------------------------------------------\u001b[0m",
            "\u001b[0;31mNameError\u001b[0m                                 Traceback (most recent call last)",
            "\u001b[0;32m<ipython-input-6-773cb95226f3>\u001b[0m in \u001b[0;36m<module>\u001b[0;34m()\u001b[0m\n\u001b[0;32m----> 1\u001b[0;31m \u001b[0mprint\u001b[0m\u001b[0;34m(\u001b[0m\u001b[0mtype\u001b[0m\u001b[0;34m(\u001b[0m\u001b[0mdata\u001b[0m\u001b[0;34m)\u001b[0m\u001b[0;34m)\u001b[0m\u001b[0;34m\u001b[0m\u001b[0;34m\u001b[0m\u001b[0m\n\u001b[0m\u001b[1;32m      2\u001b[0m \u001b[0;34m\u001b[0m\u001b[0m\n\u001b[1;32m      3\u001b[0m \u001b[0mt\u001b[0m \u001b[0;34m=\u001b[0m \u001b[0mdata\u001b[0m\u001b[0;34m.\u001b[0m\u001b[0mto_pandas\u001b[0m\u001b[0;34m(\u001b[0m\u001b[0;34m)\u001b[0m\u001b[0;34m\u001b[0m\u001b[0;34m\u001b[0m\u001b[0m\n\u001b[1;32m      4\u001b[0m \u001b[0;34m\u001b[0m\u001b[0m\n\u001b[1;32m      5\u001b[0m \u001b[0mt\u001b[0m\u001b[0;34m.\u001b[0m\u001b[0mto_csv\u001b[0m\u001b[0;34m(\u001b[0m\u001b[0;34m'datos_ml.csv'\u001b[0m\u001b[0;34m,\u001b[0m\u001b[0mindex\u001b[0m\u001b[0;34m=\u001b[0m\u001b[0;32mFalse\u001b[0m\u001b[0;34m)\u001b[0m\u001b[0;34m\u001b[0m\u001b[0;34m\u001b[0m\u001b[0m\n",
            "\u001b[0;31mNameError\u001b[0m: name 'data' is not defined"
          ]
        }
      ]
    },
    {
      "cell_type": "code",
      "metadata": {
        "id": "aUxu1G4mt9iN",
        "colab_type": "code",
        "colab": {}
      },
      "source": [
        "data.write('datos_ml.fits')"
      ],
      "execution_count": null,
      "outputs": []
    },
    {
      "cell_type": "code",
      "metadata": {
        "id": "PMGCQ007u9aM",
        "colab_type": "code",
        "colab": {}
      },
      "source": [
        "!rm datos_ml.fits"
      ],
      "execution_count": null,
      "outputs": []
    },
    {
      "cell_type": "code",
      "metadata": {
        "id": "_IBAkK9ouQZP",
        "colab_type": "code",
        "colab": {}
      },
      "source": [
        "from google.colab import files"
      ],
      "execution_count": null,
      "outputs": []
    },
    {
      "cell_type": "code",
      "metadata": {
        "id": "nMZ6mdNRuTjF",
        "colab_type": "code",
        "colab": {
          "base_uri": "https://localhost:8080/",
          "height": 17
        },
        "outputId": "db6496ce-6991-4312-f596-6f3462f92cd7"
      },
      "source": [
        "files.download('datos_ml.csv')"
      ],
      "execution_count": null,
      "outputs": [
        {
          "output_type": "display_data",
          "data": {
            "application/javascript": [
              "\n",
              "    async function download(id, filename, size) {\n",
              "      if (!google.colab.kernel.accessAllowed) {\n",
              "        return;\n",
              "      }\n",
              "      const div = document.createElement('div');\n",
              "      const label = document.createElement('label');\n",
              "      label.textContent = `Downloading \"${filename}\": `;\n",
              "      div.appendChild(label);\n",
              "      const progress = document.createElement('progress');\n",
              "      progress.max = size;\n",
              "      div.appendChild(progress);\n",
              "      document.body.appendChild(div);\n",
              "\n",
              "      const buffers = [];\n",
              "      let downloaded = 0;\n",
              "\n",
              "      const channel = await google.colab.kernel.comms.open(id);\n",
              "      // Send a message to notify the kernel that we're ready.\n",
              "      channel.send({})\n",
              "\n",
              "      for await (const message of channel.messages) {\n",
              "        // Send a message to notify the kernel that we're ready.\n",
              "        channel.send({})\n",
              "        if (message.buffers) {\n",
              "          for (const buffer of message.buffers) {\n",
              "            buffers.push(buffer);\n",
              "            downloaded += buffer.byteLength;\n",
              "            progress.value = downloaded;\n",
              "          }\n",
              "        }\n",
              "      }\n",
              "      const blob = new Blob(buffers, {type: 'application/binary'});\n",
              "      const a = document.createElement('a');\n",
              "      a.href = window.URL.createObjectURL(blob);\n",
              "      a.download = filename;\n",
              "      div.appendChild(a);\n",
              "      a.click();\n",
              "      div.remove();\n",
              "    }\n",
              "  "
            ],
            "text/plain": [
              "<IPython.core.display.Javascript object>"
            ]
          },
          "metadata": {
            "tags": []
          }
        },
        {
          "output_type": "display_data",
          "data": {
            "application/javascript": [
              "download(\"download_02d280bb-c344-493f-ade7-ed1f38302827\", \"datos_ml.csv\", 8634790)"
            ],
            "text/plain": [
              "<IPython.core.display.Javascript object>"
            ]
          },
          "metadata": {
            "tags": []
          }
        }
      ]
    },
    {
      "cell_type": "code",
      "metadata": {
        "id": "8X2n9-M8w5x0",
        "colab_type": "code",
        "colab": {}
      },
      "source": [
        ""
      ],
      "execution_count": null,
      "outputs": []
    }
  ]
}